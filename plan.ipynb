{
 "cells": [
  {
   "cell_type": "markdown",
   "metadata": {},
   "source": [
    "# HANGMAN \n",
    "- Multiplayer online"
   ]
  },
  {
   "cell_type": "markdown",
   "metadata": {},
   "source": [
    "#### Ingame Layout\n",
    "- similar to gartic phone for multiplayer"
   ]
  },
  {
   "cell_type": "markdown",
   "metadata": {},
   "source": [
    "#### How it works\n",
    "- People vote for a certain letter, the most-voted will be chosen\n",
    "- If the chosen word is valid, those who chose it will gain 10 points\n",
    "- If the chosen word is invalid, those who chose it will lose 10 points\n",
    "- Letter chosen by players are only revealed at the end of each countdown"
   ]
  }
 ],
 "metadata": {
  "language_info": {
   "name": "python"
  }
 },
 "nbformat": 4,
 "nbformat_minor": 2
}
